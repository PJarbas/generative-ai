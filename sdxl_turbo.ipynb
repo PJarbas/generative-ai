{
  "nbformat": 4,
  "nbformat_minor": 0,
  "metadata": {
    "colab": {
      "provenance": []
    },
    "kernelspec": {
      "name": "python3",
      "display_name": "Python 3"
    },
    "language_info": {
      "name": "python"
    },
    "accelerator": "GPU",
    "gpuClass": "standard"
  },
  "cells": [
    {
      "cell_type": "code",
      "source": [
        "!pip install diffusers transformers torch torchvision accelerate safetensors huggingface_hub --quiet"
      ],
      "metadata": {
        "id": "qmu4R5i27-n2"
      },
      "execution_count": null,
      "outputs": []
    },
    {
      "cell_type": "code",
      "source": [
        "from diffusers import AutoPipelineForText2Image\n",
        "import torch\n",
        "\n",
        "pipe = AutoPipelineForText2Image.from_pretrained(\"stabilityai/sdxl-turbo\", torch_dtype=torch.float16, variant=\"fp16\")\n",
        "pipe.to(\"cuda\")\n",
        "\n",
        "prompt = \"(raw photo, masterpiece, best quality, high detail), (8k, full frame, photorealistic, realistic, photo of a blue 1953 bel air.\"\n",
        "\n",
        "image = pipe(prompt=prompt, num_inference_steps=1, guidance_scale=0.0).images[0]\n",
        "image.save(\"output.png\")"
      ],
      "metadata": {
        "id": "2Hso_fzJr_fi"
      },
      "execution_count": null,
      "outputs": []
    },
    {
      "cell_type": "markdown",
      "source": [],
      "metadata": {
        "id": "hwpnCawy8_bL"
      }
    },
    {
      "cell_type": "code",
      "source": [
        "# Pixar Cars"
      ],
      "metadata": {
        "id": "UiIrXiVQ88CV"
      },
      "execution_count": null,
      "outputs": []
    },
    {
      "cell_type": "code",
      "source": [
        "!git clone https://github.com/replicate/cog-sdxl cog_sdxl"
      ],
      "metadata": {
        "id": "vtMOyi_q9C9c"
      },
      "execution_count": null,
      "outputs": []
    },
    {
      "cell_type": "code",
      "source": [
        "import torch\n",
        "from huggingface_hub import hf_hub_download\n",
        "from diffusers import DiffusionPipeline\n",
        "from cog_sdxl.dataset_and_utils import TokenEmbeddingsHandler\n",
        "from diffusers.models import AutoencoderKL\n",
        "\n",
        "pipe = DiffusionPipeline.from_pretrained(\n",
        "        \"stabilityai/stable-diffusion-xl-base-1.0\",\n",
        "        torch_dtype=torch.float16,\n",
        "        variant=\"fp16\",\n",
        ").to(\"cuda\")\n",
        "\n",
        "pipe.load_lora_weights(\"fofr/sdxl-pixar-cars\", weight_name=\"lora.safetensors\")\n",
        "\n",
        "text_encoders = [pipe.text_encoder, pipe.text_encoder_2]\n",
        "tokenizers = [pipe.tokenizer, pipe.tokenizer_2]\n",
        "\n",
        "embedding_path = hf_hub_download(repo_id=\"fofr/sdxl-pixar-cars\", filename=\"embeddings.pti\", repo_type=\"model\")\n",
        "embhandler = TokenEmbeddingsHandler(text_encoders, tokenizers)\n",
        "embhandler.load_embeddings(embedding_path)\n",
        "prompt=\"A photo of a blue <s0><s1> Pixar car with eyes, photography, 50mm\"\n",
        "images = pipe(\n",
        "    prompt,\n",
        "    cross_attention_kwargs={\"scale\": 0.8},\n",
        ").images\n",
        "#your output image\n",
        "images[0]\n",
        "image.save(\"output-pixar.png\")\n"
      ],
      "metadata": {
        "id": "8xZLGLpb88Q9"
      },
      "execution_count": null,
      "outputs": []
    },
    {
      "cell_type": "markdown",
      "source": [
        "Free GPU Memory"
      ],
      "metadata": {
        "id": "g-43StJC_Bwd"
      }
    },
    {
      "cell_type": "code",
      "source": [
        "torch.cuda.empty_cache()"
      ],
      "metadata": {
        "id": "nW-L-C_S90X_"
      },
      "execution_count": 21,
      "outputs": []
    },
    {
      "cell_type": "code",
      "source": [],
      "metadata": {
        "id": "cR1s-Jfr-OMC"
      },
      "execution_count": null,
      "outputs": []
    }
  ]
}